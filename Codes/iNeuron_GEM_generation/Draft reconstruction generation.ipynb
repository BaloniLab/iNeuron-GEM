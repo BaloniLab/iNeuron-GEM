{
 "cells": [
  {
   "cell_type": "code",
   "execution_count": null,
   "metadata": {},
   "outputs": [],
   "source": [
    "import cobra\n",
    "from cobra.io import read_sbml_model, load_matlab_model\n",
    "import corda\n",
    "import pandas as pd\n",
    "import numpy as np\n",
    "import os\n",
    "\n"
   ]
  },
  {
   "cell_type": "code",
   "execution_count": null,
   "metadata": {},
   "outputs": [],
   "source": [
    "pd.set_option('display.max_rows', None)\n",
    "pd.set_option('display.max_columns', None)\n"
   ]
  },
  {
   "cell_type": "code",
   "execution_count": null,
   "metadata": {},
   "outputs": [],
   "source": [
    "model = read_sbml_model('/Users/jiang817/Library/CloudStorage/Box-Box/Boyu-Gut_microbiome/Neuron_GEM/Draft_reconstruction/CORDA_inputs/Recon3D.xml')"
   ]
  },
  {
   "cell_type": "code",
   "execution_count": null,
   "metadata": {},
   "outputs": [],
   "source": [
    "os.environ['GUROBI_HOME'] = \"/Users/jiang817/Desktop/Gurobi_license\"\n",
    "os.environ['GRB_LICENSE_FILE'] = \"/Users/jiang817/Desktop/Gurobi_license/gurobi.lic\""
   ]
  },
  {
   "cell_type": "code",
   "execution_count": null,
   "metadata": {},
   "outputs": [],
   "source": [
    "Recon3D = read_sbml_model('/depot/pbaloni/data/Lab_members/Boyu_Jiang/Neuron_GEM/Draft_reconstruction/CORDA_inputs/Recon3D.xml')\n",
    "#recon3d = load_matlab_model('/depot/pbaloni/data/Lab_members/Boyu_Jiang/Neuron_GEM/Draft_reconstruction/CORDA_inputs/Recon3D.mat')"
   ]
  },
  {
   "cell_type": "code",
   "execution_count": null,
   "metadata": {},
   "outputs": [],
   "source": [
    "RxnScore = pd.read_csv('/depot/pbaloni/data/Lab_members/Boyu_Jiang/Neuron_GEM/Draft_reconstruction/CORDA_inputs/Reactionscore.csv', index_col=0)"
   ]
  },
  {
   "cell_type": "code",
   "execution_count": null,
   "metadata": {},
   "outputs": [],
   "source": [
    "RxnScore[RxnScore >= q30] = 3\n",
    "RxnScore[RxnScore <  q30 ] = 2\n",
    "RxnScore.fillna(0, inplace=True)"
   ]
  },
  {
   "cell_type": "code",
   "execution_count": null,
   "metadata": {},
   "outputs": [],
   "source": [
    "confidence_score = {}\n",
    "for i in range(len(RxnScore.index)):\n",
    "    confidence_score[RxnScore.index[i]] = RxnScore['Score'][i]"
   ]
  },
  {
   "cell_type": "code",
   "execution_count": null,
   "metadata": {},
   "outputs": [],
   "source": [
    "confidence_score['BIOMASS_maintenance'] = 3\n",
    "confidence_score['ATPS4mi'] = 3"
   ]
  },
  {
   "cell_type": "code",
   "execution_count": null,
   "metadata": {},
   "outputs": [],
   "source": [
    "met_list = []\n",
    "biomass = Recon3D.reactions.get_by_id('BIOMASS_maintenance')\n",
    "atps4 = Recon3D.reactions.get_by_id('ATPS4mi')\n",
    "for i in biomass.metabolites:\n",
    "    met = i.id\n",
    "    #print(met)\n",
    "    met_list.append(met)\n",
    "print(len(met_list))\n",
    "for i in atps4.metabolites:\n",
    "    met = i.id\n",
    "    #print(met)\n",
    "    met_list.append(met)\n",
    "print(len(met_list))\n",
    "met_list = np.unique(met_list).tolist()"
   ]
  },
  {
   "cell_type": "code",
   "execution_count": null,
   "metadata": {},
   "outputs": [],
   "source": [
    "ts_model = corda.CORDA(Recon3D, confidence_score, met_list)"
   ]
  },
  {
   "cell_type": "code",
   "execution_count": null,
   "metadata": {},
   "outputs": [],
   "source": [
    "ts_model.build()"
   ]
  },
  {
   "cell_type": "code",
   "execution_count": null,
   "metadata": {},
   "outputs": [],
   "source": [
    "ts_model.included['BIOMASS_maintenance']\n"
   ]
  },
  {
   "cell_type": "code",
   "execution_count": null,
   "metadata": {},
   "outputs": [],
   "source": [
    "# q30\n",
    "print(ts_model)"
   ]
  },
  {
   "cell_type": "code",
   "execution_count": null,
   "metadata": {},
   "outputs": [],
   "source": [
    "num = 0\n",
    "for i in ts_model.included:\n",
    "    if ts_model.included[i] == True:\n",
    "        num += 1\n",
    "print(num)"
   ]
  },
  {
   "cell_type": "code",
   "execution_count": null,
   "metadata": {},
   "outputs": [],
   "source": [
    "ts_cobra_model = ts_model.cobra_model()"
   ]
  },
  {
   "cell_type": "code",
   "execution_count": null,
   "metadata": {},
   "outputs": [],
   "source": [
    "cobra.io.write_sbml_model(ts_cobra_model, '/depot/pbaloni/data/Lab_members/Boyu_Jiang/Neuron_GEM/Draft_reconstruction/output/CORDA_draft_reconstruction.xml')"
   ]
  },
  {
   "cell_type": "code",
   "execution_count": null,
   "metadata": {},
   "outputs": [],
   "source": []
  }
 ],
 "metadata": {
  "kernelspec": {
   "display_name": "BaloniLab",
   "language": "python",
   "name": "python3"
  },
  "language_info": {
   "codemirror_mode": {
    "name": "ipython",
    "version": 3
   },
   "file_extension": ".py",
   "mimetype": "text/x-python",
   "name": "python",
   "nbconvert_exporter": "python",
   "pygments_lexer": "ipython3",
   "version": "3.9.6"
  }
 },
 "nbformat": 4,
 "nbformat_minor": 2
}
